{
 "cells": [
  {
   "cell_type": "markdown",
   "id": "87475ce8",
   "metadata": {},
   "source": [
    "# Lab: Linear Models and Regularization Methods \n"
   ]
  },
  {
   "cell_type": "markdown",
   "id": "0abfcd25",
   "metadata": {},
   "source": [
    "### Step 1: Import Libraries "
   ]
  },
  {
   "cell_type": "code",
   "execution_count": 1,
   "id": "4b129236",
   "metadata": {},
   "outputs": [],
   "source": [
    "# !pip install l0bnb"
   ]
  },
  {
   "cell_type": "code",
   "execution_count": 2,
   "id": "873c45e4",
   "metadata": {},
   "outputs": [],
   "source": [
    "import numpy as np\n",
    "import pandas as pd\n",
    "from matplotlib.pyplot import subplots\n",
    "from statsmodels.api import OLS\n",
    "import sklearn.model_selection as skm\n",
    "import sklearn.linear_model as skl\n",
    "from sklearn.preprocessing import StandardScaler\n",
    "from ISLP import load_data\n",
    "from ISLP.models import ModelSpec as MS\n",
    "from functools import partial\n",
    "\n",
    "from sklearn.pipeline import Pipeline\n",
    "from sklearn.decomposition import PCA\n",
    "\n",
    "from sklearn.cross_decomposition import PLSRegression\n",
    "from ISLP.models import (Stepwise, \n",
    "                        sklearn_selected,\n",
    "                        sklearn_selection_path)\n",
    "\n",
    "from l0bnb import fit_path\n"
   ]
  },
  {
   "cell_type": "markdown",
   "id": "97512a55",
   "metadata": {},
   "source": [
    "### Subset Selection: \n",
    "1. Forward Selection \n",
    "2. Backward Selection \n",
    "3. Best Subset Selection "
   ]
  },
  {
   "cell_type": "markdown",
   "id": "bf0b4459",
   "metadata": {},
   "source": [
    "# Part I: Forward Selection Type  "
   ]
  },
  {
   "cell_type": "code",
   "execution_count": 3,
   "id": "84010e2c",
   "metadata": {},
   "outputs": [],
   "source": [
    "Hitters = load_data('Hitters')"
   ]
  },
  {
   "cell_type": "code",
   "execution_count": 4,
   "id": "3209de7d",
   "metadata": {},
   "outputs": [
    {
     "data": {
      "text/html": [
       "<div>\n",
       "<style scoped>\n",
       "    .dataframe tbody tr th:only-of-type {\n",
       "        vertical-align: middle;\n",
       "    }\n",
       "\n",
       "    .dataframe tbody tr th {\n",
       "        vertical-align: top;\n",
       "    }\n",
       "\n",
       "    .dataframe thead th {\n",
       "        text-align: right;\n",
       "    }\n",
       "</style>\n",
       "<table border=\"1\" class=\"dataframe\">\n",
       "  <thead>\n",
       "    <tr style=\"text-align: right;\">\n",
       "      <th></th>\n",
       "      <th>AtBat</th>\n",
       "      <th>Hits</th>\n",
       "      <th>HmRun</th>\n",
       "      <th>Runs</th>\n",
       "      <th>RBI</th>\n",
       "      <th>Walks</th>\n",
       "      <th>Years</th>\n",
       "      <th>CAtBat</th>\n",
       "      <th>CHits</th>\n",
       "      <th>CHmRun</th>\n",
       "      <th>CRuns</th>\n",
       "      <th>CRBI</th>\n",
       "      <th>CWalks</th>\n",
       "      <th>League</th>\n",
       "      <th>Division</th>\n",
       "      <th>PutOuts</th>\n",
       "      <th>Assists</th>\n",
       "      <th>Errors</th>\n",
       "      <th>Salary</th>\n",
       "      <th>NewLeague</th>\n",
       "    </tr>\n",
       "  </thead>\n",
       "  <tbody>\n",
       "    <tr>\n",
       "      <th>0</th>\n",
       "      <td>293</td>\n",
       "      <td>66</td>\n",
       "      <td>1</td>\n",
       "      <td>30</td>\n",
       "      <td>29</td>\n",
       "      <td>14</td>\n",
       "      <td>1</td>\n",
       "      <td>293</td>\n",
       "      <td>66</td>\n",
       "      <td>1</td>\n",
       "      <td>30</td>\n",
       "      <td>29</td>\n",
       "      <td>14</td>\n",
       "      <td>A</td>\n",
       "      <td>E</td>\n",
       "      <td>446</td>\n",
       "      <td>33</td>\n",
       "      <td>20</td>\n",
       "      <td>NaN</td>\n",
       "      <td>A</td>\n",
       "    </tr>\n",
       "    <tr>\n",
       "      <th>1</th>\n",
       "      <td>315</td>\n",
       "      <td>81</td>\n",
       "      <td>7</td>\n",
       "      <td>24</td>\n",
       "      <td>38</td>\n",
       "      <td>39</td>\n",
       "      <td>14</td>\n",
       "      <td>3449</td>\n",
       "      <td>835</td>\n",
       "      <td>69</td>\n",
       "      <td>321</td>\n",
       "      <td>414</td>\n",
       "      <td>375</td>\n",
       "      <td>N</td>\n",
       "      <td>W</td>\n",
       "      <td>632</td>\n",
       "      <td>43</td>\n",
       "      <td>10</td>\n",
       "      <td>475.0</td>\n",
       "      <td>N</td>\n",
       "    </tr>\n",
       "    <tr>\n",
       "      <th>2</th>\n",
       "      <td>479</td>\n",
       "      <td>130</td>\n",
       "      <td>18</td>\n",
       "      <td>66</td>\n",
       "      <td>72</td>\n",
       "      <td>76</td>\n",
       "      <td>3</td>\n",
       "      <td>1624</td>\n",
       "      <td>457</td>\n",
       "      <td>63</td>\n",
       "      <td>224</td>\n",
       "      <td>266</td>\n",
       "      <td>263</td>\n",
       "      <td>A</td>\n",
       "      <td>W</td>\n",
       "      <td>880</td>\n",
       "      <td>82</td>\n",
       "      <td>14</td>\n",
       "      <td>480.0</td>\n",
       "      <td>A</td>\n",
       "    </tr>\n",
       "    <tr>\n",
       "      <th>3</th>\n",
       "      <td>496</td>\n",
       "      <td>141</td>\n",
       "      <td>20</td>\n",
       "      <td>65</td>\n",
       "      <td>78</td>\n",
       "      <td>37</td>\n",
       "      <td>11</td>\n",
       "      <td>5628</td>\n",
       "      <td>1575</td>\n",
       "      <td>225</td>\n",
       "      <td>828</td>\n",
       "      <td>838</td>\n",
       "      <td>354</td>\n",
       "      <td>N</td>\n",
       "      <td>E</td>\n",
       "      <td>200</td>\n",
       "      <td>11</td>\n",
       "      <td>3</td>\n",
       "      <td>500.0</td>\n",
       "      <td>N</td>\n",
       "    </tr>\n",
       "    <tr>\n",
       "      <th>4</th>\n",
       "      <td>321</td>\n",
       "      <td>87</td>\n",
       "      <td>10</td>\n",
       "      <td>39</td>\n",
       "      <td>42</td>\n",
       "      <td>30</td>\n",
       "      <td>2</td>\n",
       "      <td>396</td>\n",
       "      <td>101</td>\n",
       "      <td>12</td>\n",
       "      <td>48</td>\n",
       "      <td>46</td>\n",
       "      <td>33</td>\n",
       "      <td>N</td>\n",
       "      <td>E</td>\n",
       "      <td>805</td>\n",
       "      <td>40</td>\n",
       "      <td>4</td>\n",
       "      <td>91.5</td>\n",
       "      <td>N</td>\n",
       "    </tr>\n",
       "  </tbody>\n",
       "</table>\n",
       "</div>"
      ],
      "text/plain": [
       "   AtBat  Hits  HmRun  Runs  RBI  Walks  Years  CAtBat  CHits  CHmRun  CRuns  \\\n",
       "0    293    66      1    30   29     14      1     293     66       1     30   \n",
       "1    315    81      7    24   38     39     14    3449    835      69    321   \n",
       "2    479   130     18    66   72     76      3    1624    457      63    224   \n",
       "3    496   141     20    65   78     37     11    5628   1575     225    828   \n",
       "4    321    87     10    39   42     30      2     396    101      12     48   \n",
       "\n",
       "   CRBI  CWalks League Division  PutOuts  Assists  Errors  Salary NewLeague  \n",
       "0    29      14      A        E      446       33      20     NaN         A  \n",
       "1   414     375      N        W      632       43      10   475.0         N  \n",
       "2   266     263      A        W      880       82      14   480.0         A  \n",
       "3   838     354      N        E      200       11       3   500.0         N  \n",
       "4    46      33      N        E      805       40       4    91.5         N  "
      ]
     },
     "execution_count": 4,
     "metadata": {},
     "output_type": "execute_result"
    }
   ],
   "source": [
    "Hitters.head()"
   ]
  },
  {
   "cell_type": "code",
   "execution_count": 5,
   "id": "8e4e15d1",
   "metadata": {},
   "outputs": [
    {
     "data": {
      "text/plain": [
       "(322, 20)"
      ]
     },
     "execution_count": 5,
     "metadata": {},
     "output_type": "execute_result"
    }
   ],
   "source": [
    "Hitters.shape"
   ]
  },
  {
   "cell_type": "code",
   "execution_count": 6,
   "id": "b45f95b6",
   "metadata": {},
   "outputs": [
    {
     "data": {
      "text/plain": [
       "AtBat         0\n",
       "Hits          0\n",
       "HmRun         0\n",
       "Runs          0\n",
       "RBI           0\n",
       "Walks         0\n",
       "Years         0\n",
       "CAtBat        0\n",
       "CHits         0\n",
       "CHmRun        0\n",
       "CRuns         0\n",
       "CRBI          0\n",
       "CWalks        0\n",
       "League        0\n",
       "Division      0\n",
       "PutOuts       0\n",
       "Assists       0\n",
       "Errors        0\n",
       "Salary       59\n",
       "NewLeague     0\n",
       "dtype: int64"
      ]
     },
     "execution_count": 6,
     "metadata": {},
     "output_type": "execute_result"
    }
   ],
   "source": [
    "Hitters.isna().sum()"
   ]
  },
  {
   "cell_type": "code",
   "execution_count": 7,
   "id": "1356112b",
   "metadata": {},
   "outputs": [
    {
     "data": {
      "text/plain": [
       "(263, 20)"
      ]
     },
     "execution_count": 7,
     "metadata": {},
     "output_type": "execute_result"
    }
   ],
   "source": [
    "# removes rows with missing values\n",
    "Hitters = Hitters.dropna()\n",
    "Hitters.shape"
   ]
  },
  {
   "cell_type": "code",
   "execution_count": 8,
   "id": "1961e3f9",
   "metadata": {},
   "outputs": [],
   "source": [
    "def nCp(sigma2, estimator, X, Y):\n",
    "    \"Negative Cp statistic\"\n",
    "    n, p = X.shape\n",
    "    Yhat = estimator.predict(X)\n",
    "    RSS = np.sum((Y - Yhat)**2)\n",
    "    return -(RSS + 2 * p * sigma2) / n\n"
   ]
  },
  {
   "cell_type": "code",
   "execution_count": 9,
   "id": "2cb61256",
   "metadata": {},
   "outputs": [],
   "source": [
    "design = MS(Hitters.columns.drop('Salary')).fit(Hitters)\n",
    "Y = np.array(Hitters['Salary'])\n",
    "X = design.transform(Hitters)\n",
    "sigma2 = OLS(Y,X).fit().scale"
   ]
  },
  {
   "cell_type": "code",
   "execution_count": 10,
   "id": "4a52379f",
   "metadata": {},
   "outputs": [],
   "source": [
    "# Set up a scoring function\n",
    "neg_Cp = partial(nCp, sigma2)"
   ]
  },
  {
   "cell_type": "code",
   "execution_count": 11,
   "id": "5012fddb",
   "metadata": {},
   "outputs": [],
   "source": [
    "# Explain the function\n",
    "#   - sigma2: the estimated error variance\n",
    "#   - estimator: a fitted model\n",
    "#   - X: the design matrix\n",
    "#   - Y: the response vector\n",
    "#   - n: the number of observations \n",
    "strategy = Stepwise.first_peak(design,\n",
    "                               direction='forward',\n",
    "                               max_terms=len(design.terms))"
   ]
  },
  {
   "cell_type": "code",
   "execution_count": 12,
   "id": "1c7ab198",
   "metadata": {},
   "outputs": [
    {
     "data": {
      "text/plain": [
       "Strategy(initial_state=(), candidate_states=<bound method Stepwise.candidate_states of <ISLP.models.strategy.Stepwise object at 0x7a2b7e73c760>>, build_submodel=<bound method ModelSpec.build_submodel of ModelSpec(terms=Index(['AtBat', 'Hits', 'HmRun', 'Runs', 'RBI', 'Walks', 'Years', 'CAtBat',\n",
       "       'CHits', 'CHmRun', 'CRuns', 'CRBI', 'CWalks', 'League', 'Division',\n",
       "       'PutOuts', 'Assists', 'Errors', 'NewLeague'],\n",
       "      dtype='object'))>, check_finished=<function first_peak at 0x7a2b4859bf40>, postprocess=<function _postprocess_best at 0x7a2b485bc1f0>)"
      ]
     },
     "execution_count": 12,
     "metadata": {},
     "output_type": "execute_result"
    }
   ],
   "source": [
    "strategy"
   ]
  },
  {
   "cell_type": "code",
   "execution_count": null,
   "id": "59c6e652",
   "metadata": {},
   "outputs": [],
   "source": []
  },
  {
   "cell_type": "code",
   "execution_count": 13,
   "id": "39b6830f",
   "metadata": {},
   "outputs": [
    {
     "data": {
      "text/html": [
       "<div>\n",
       "<style scoped>\n",
       "    .dataframe tbody tr th:only-of-type {\n",
       "        vertical-align: middle;\n",
       "    }\n",
       "\n",
       "    .dataframe tbody tr th {\n",
       "        vertical-align: top;\n",
       "    }\n",
       "\n",
       "    .dataframe thead th {\n",
       "        text-align: right;\n",
       "    }\n",
       "</style>\n",
       "<table border=\"1\" class=\"dataframe\">\n",
       "  <thead>\n",
       "    <tr style=\"text-align: right;\">\n",
       "      <th></th>\n",
       "      <th>AtBat</th>\n",
       "      <th>Hits</th>\n",
       "      <th>HmRun</th>\n",
       "      <th>Runs</th>\n",
       "      <th>RBI</th>\n",
       "      <th>Walks</th>\n",
       "      <th>Years</th>\n",
       "      <th>CAtBat</th>\n",
       "      <th>CHits</th>\n",
       "      <th>CHmRun</th>\n",
       "      <th>CRuns</th>\n",
       "      <th>CRBI</th>\n",
       "      <th>CWalks</th>\n",
       "      <th>League</th>\n",
       "      <th>Division</th>\n",
       "      <th>PutOuts</th>\n",
       "      <th>Assists</th>\n",
       "      <th>Errors</th>\n",
       "      <th>Salary</th>\n",
       "      <th>NewLeague</th>\n",
       "    </tr>\n",
       "  </thead>\n",
       "  <tbody>\n",
       "    <tr>\n",
       "      <th>1</th>\n",
       "      <td>315</td>\n",
       "      <td>81</td>\n",
       "      <td>7</td>\n",
       "      <td>24</td>\n",
       "      <td>38</td>\n",
       "      <td>39</td>\n",
       "      <td>14</td>\n",
       "      <td>3449</td>\n",
       "      <td>835</td>\n",
       "      <td>69</td>\n",
       "      <td>321</td>\n",
       "      <td>414</td>\n",
       "      <td>375</td>\n",
       "      <td>N</td>\n",
       "      <td>W</td>\n",
       "      <td>632</td>\n",
       "      <td>43</td>\n",
       "      <td>10</td>\n",
       "      <td>475.0</td>\n",
       "      <td>N</td>\n",
       "    </tr>\n",
       "    <tr>\n",
       "      <th>2</th>\n",
       "      <td>479</td>\n",
       "      <td>130</td>\n",
       "      <td>18</td>\n",
       "      <td>66</td>\n",
       "      <td>72</td>\n",
       "      <td>76</td>\n",
       "      <td>3</td>\n",
       "      <td>1624</td>\n",
       "      <td>457</td>\n",
       "      <td>63</td>\n",
       "      <td>224</td>\n",
       "      <td>266</td>\n",
       "      <td>263</td>\n",
       "      <td>A</td>\n",
       "      <td>W</td>\n",
       "      <td>880</td>\n",
       "      <td>82</td>\n",
       "      <td>14</td>\n",
       "      <td>480.0</td>\n",
       "      <td>A</td>\n",
       "    </tr>\n",
       "    <tr>\n",
       "      <th>3</th>\n",
       "      <td>496</td>\n",
       "      <td>141</td>\n",
       "      <td>20</td>\n",
       "      <td>65</td>\n",
       "      <td>78</td>\n",
       "      <td>37</td>\n",
       "      <td>11</td>\n",
       "      <td>5628</td>\n",
       "      <td>1575</td>\n",
       "      <td>225</td>\n",
       "      <td>828</td>\n",
       "      <td>838</td>\n",
       "      <td>354</td>\n",
       "      <td>N</td>\n",
       "      <td>E</td>\n",
       "      <td>200</td>\n",
       "      <td>11</td>\n",
       "      <td>3</td>\n",
       "      <td>500.0</td>\n",
       "      <td>N</td>\n",
       "    </tr>\n",
       "    <tr>\n",
       "      <th>4</th>\n",
       "      <td>321</td>\n",
       "      <td>87</td>\n",
       "      <td>10</td>\n",
       "      <td>39</td>\n",
       "      <td>42</td>\n",
       "      <td>30</td>\n",
       "      <td>2</td>\n",
       "      <td>396</td>\n",
       "      <td>101</td>\n",
       "      <td>12</td>\n",
       "      <td>48</td>\n",
       "      <td>46</td>\n",
       "      <td>33</td>\n",
       "      <td>N</td>\n",
       "      <td>E</td>\n",
       "      <td>805</td>\n",
       "      <td>40</td>\n",
       "      <td>4</td>\n",
       "      <td>91.5</td>\n",
       "      <td>N</td>\n",
       "    </tr>\n",
       "    <tr>\n",
       "      <th>5</th>\n",
       "      <td>594</td>\n",
       "      <td>169</td>\n",
       "      <td>4</td>\n",
       "      <td>74</td>\n",
       "      <td>51</td>\n",
       "      <td>35</td>\n",
       "      <td>11</td>\n",
       "      <td>4408</td>\n",
       "      <td>1133</td>\n",
       "      <td>19</td>\n",
       "      <td>501</td>\n",
       "      <td>336</td>\n",
       "      <td>194</td>\n",
       "      <td>A</td>\n",
       "      <td>W</td>\n",
       "      <td>282</td>\n",
       "      <td>421</td>\n",
       "      <td>25</td>\n",
       "      <td>750.0</td>\n",
       "      <td>A</td>\n",
       "    </tr>\n",
       "  </tbody>\n",
       "</table>\n",
       "</div>"
      ],
      "text/plain": [
       "   AtBat  Hits  HmRun  Runs  RBI  Walks  Years  CAtBat  CHits  CHmRun  CRuns  \\\n",
       "1    315    81      7    24   38     39     14    3449    835      69    321   \n",
       "2    479   130     18    66   72     76      3    1624    457      63    224   \n",
       "3    496   141     20    65   78     37     11    5628   1575     225    828   \n",
       "4    321    87     10    39   42     30      2     396    101      12     48   \n",
       "5    594   169      4    74   51     35     11    4408   1133      19    501   \n",
       "\n",
       "   CRBI  CWalks League Division  PutOuts  Assists  Errors  Salary NewLeague  \n",
       "1   414     375      N        W      632       43      10   475.0         N  \n",
       "2   266     263      A        W      880       82      14   480.0         A  \n",
       "3   838     354      N        E      200       11       3   500.0         N  \n",
       "4    46      33      N        E      805       40       4    91.5         N  \n",
       "5   336     194      A        W      282      421      25   750.0         A  "
      ]
     },
     "execution_count": 13,
     "metadata": {},
     "output_type": "execute_result"
    }
   ],
   "source": [
    "Hitters.head()"
   ]
  },
  {
   "cell_type": "code",
   "execution_count": 14,
   "id": "cc86831a",
   "metadata": {},
   "outputs": [
    {
     "data": {
      "text/plain": [
       "('Assists',\n",
       " 'AtBat',\n",
       " 'CAtBat',\n",
       " 'CHits',\n",
       " 'CHmRun',\n",
       " 'CRBI',\n",
       " 'CRuns',\n",
       " 'CWalks',\n",
       " 'Division',\n",
       " 'Errors',\n",
       " 'Hits',\n",
       " 'HmRun',\n",
       " 'League',\n",
       " 'NewLeague',\n",
       " 'PutOuts',\n",
       " 'RBI',\n",
       " 'Runs',\n",
       " 'Walks',\n",
       " 'Years')"
      ]
     },
     "execution_count": 14,
     "metadata": {},
     "output_type": "execute_result"
    }
   ],
   "source": [
    "# \n",
    "hitters_MSE = sklearn_selected(OLS,\n",
    "                               strategy)\n",
    "# Fit the model\n",
    "hitters_MSE.fit(Hitters, Y)\n",
    "# Get the selected variables\n",
    "hitters_MSE.selected_state_"
   ]
  },
  {
   "cell_type": "code",
   "execution_count": 15,
   "id": "d6574a82",
   "metadata": {},
   "outputs": [
    {
     "data": {
      "text/plain": [
       "('Assists',\n",
       " 'AtBat',\n",
       " 'CAtBat',\n",
       " 'CRBI',\n",
       " 'CRuns',\n",
       " 'CWalks',\n",
       " 'Division',\n",
       " 'Hits',\n",
       " 'PutOuts',\n",
       " 'Walks')"
      ]
     },
     "execution_count": 15,
     "metadata": {},
     "output_type": "execute_result"
    }
   ],
   "source": [
    "# Create a model selector using OLS and the defined stepwise strategy,\n",
    "# scoring each model using the negative Mallows' Cp statistic\n",
    "hitters_Cp = sklearn_selected(OLS,\n",
    "                              strategy,\n",
    "                              scoring=neg_Cp)\n",
    "\n",
    "# Fit the selected model to the Hitters dataset and target variable Y\n",
    "hitters_Cp.fit(Hitters, Y)\n",
    "\n",
    "# View which predictors were selected in the final model\n",
    "hitters_Cp.selected_state_\n"
   ]
  },
  {
   "cell_type": "code",
   "execution_count": 16,
   "id": "f16139e4",
   "metadata": {},
   "outputs": [],
   "source": [
    "\n",
    "strategy = Stepwise.fixed_steps(design,\n",
    "                                len(design.terms),\n",
    "                                direction='forward')\n",
    "# Create a model selector using OLS and the defined stepwise strategy,\n",
    "# scoring each model using the negative Mallows' Cp statistic\n",
    "full_path = sklearn_selection_path(OLS, strategy)"
   ]
  },
  {
   "cell_type": "code",
   "execution_count": 17,
   "id": "3ebcf078",
   "metadata": {},
   "outputs": [
    {
     "data": {
      "text/plain": [
       "(263, 20)"
      ]
     },
     "execution_count": 17,
     "metadata": {},
     "output_type": "execute_result"
    }
   ],
   "source": [
    "full_path.fit(Hitters, Y)\n",
    "Yhat_in = full_path.predict(Hitters)\n",
    "Yhat_in.shape"
   ]
  },
  {
   "cell_type": "markdown",
   "id": "5b52cfed",
   "metadata": {},
   "source": [
    "### Evaluate in-sample MSE"
   ]
  },
  {
   "cell_type": "code",
   "execution_count": 18,
   "id": "9840cabf",
   "metadata": {},
   "outputs": [
    {
     "data": {
      "image/png": "[encoded data removed]",
      "text/plain": [
       "<Figure size 800x800 with 1 Axes>"
      ]
     },
     "metadata": {},
     "output_type": "display_data"
    }
   ],
   "source": [
    "mse_fig, ax = subplots(figsize=(8,8))\n",
    "# Calculate the mean squared error for each step in the forward stepwise selection\n",
    "insample_mse = ((Yhat_in - Y[:,None])**2).mean(0)\n",
    "# Plot the mean squared error for each step\n",
    "n_steps = insample_mse.shape[0]\n",
    "# Plot the mean squared error for each step\n",
    "ax.plot(np.arange(n_steps),\n",
    "insample_mse,\n",
    "'k', # color black\n",
    "label='In-sample')\n",
    "ax.set_ylabel('MSE',\n",
    "fontsize=20)\n",
    "ax.set_xlabel('# steps of forward stepwise',\n",
    "fontsize=20)\n",
    "ax.set_xticks(np.arange(n_steps)[::2])\n",
    "ax.legend()\n",
    "ax.set_ylim([50000,250000]);"
   ]
  },
  {
   "cell_type": "markdown",
   "id": "9ca55206",
   "metadata": {},
   "source": [
    "### The cross-validated predicted values using 5-fold crossvalidation."
   ]
  },
  {
   "cell_type": "code",
   "execution_count": 19,
   "id": "53a200fe",
   "metadata": {},
   "outputs": [
    {
     "data": {
      "text/plain": [
       "(263, 20)"
      ]
     },
     "execution_count": 19,
     "metadata": {},
     "output_type": "execute_result"
    }
   ],
   "source": [
    "K=5\n",
    "kfold = skm.KFold(K,\n",
    "                  random_state=0,\n",
    "                  shuffle=True)\n",
    "# Create a model selector using OLS and the defined stepwise strategy,\n",
    "Yhat_cv = skm.cross_val_predict(full_path,\n",
    "                                Hitters,\n",
    "                                Y,\n",
    "                                cv=kfold)\n",
    "Yhat_cv.shape"
   ]
  },
  {
   "cell_type": "code",
   "execution_count": 20,
   "id": "489e807e",
   "metadata": {},
   "outputs": [
    {
     "data": {
      "text/plain": [
       "(20, 5)"
      ]
     },
     "execution_count": 20,
     "metadata": {},
     "output_type": "execute_result"
    }
   ],
   "source": [
    "cv_mse = []\n",
    "for train_idx, test_idx in kfold.split(Y):\n",
    "    errors = (Yhat_cv[test_idx] - Y[test_idx,None])**2\n",
    "    cv_mse.append(errors.mean(0)) # column means\n",
    "cv_mse = np.array(cv_mse).T\n",
    "cv_mse.shape"
   ]
  },
  {
   "cell_type": "code",
   "execution_count": 21,
   "id": "15521b21",
   "metadata": {},
   "outputs": [
    {
     "data": {
      "image/png": "[encoded data removed]",
      "text/plain": [
       "<Figure size 800x800 with 1 Axes>"
      ]
     },
     "execution_count": 21,
     "metadata": {},
     "output_type": "execute_result"
    }
   ],
   "source": [
    "ax.errorbar(np.arange(n_steps),\n",
    "            cv_mse.mean(1),\n",
    "            cv_mse.std(1) / np.sqrt(K),\n",
    "            label='Cross-validated',\n",
    "            c='r') # color red\n",
    "# Plot the mean squared error for each step\n",
    "ax.set_ylim([50000,250000])\n",
    "ax.legend()\n",
    "mse_fig"
   ]
  },
  {
   "cell_type": "code",
   "execution_count": 22,
   "id": "aeec8516",
   "metadata": {},
   "outputs": [],
   "source": [
    "validation = skm.ShuffleSplit(n_splits=1,\n",
    "                              test_size=0.2,\n",
    "                              random_state=0)\n",
    "for train_idx, test_idx in validation.split(Y):\n",
    "    full_path.fit(Hitters.iloc[train_idx],\n",
    "                  Y[train_idx])\n",
    "# Predict the response for the test set\n",
    "Yhat_val = full_path.predict(Hitters.iloc[test_idx])\n",
    "errors = (Yhat_val - Y[test_idx,None])**2\n",
    "validation_mse = errors.mean(0)"
   ]
  },
  {
   "cell_type": "code",
   "execution_count": 23,
   "id": "63c5b1e7",
   "metadata": {},
   "outputs": [
    {
     "data": {
      "image/png": "[encoded data removed]",
      "text/plain": [
       "<Figure size 800x800 with 1 Axes>"
      ]
     },
     "execution_count": 23,
     "metadata": {},
     "output_type": "execute_result"
    }
   ],
   "source": [
    "ax.plot(np.arange(n_steps),\n",
    "validation_mse,\n",
    "'b--', # color blue, broken line\n",
    "label='Validation')\n",
    "ax.set_xticks(np.arange(n_steps)[::2])\n",
    "ax.set_ylim([50000,250000])\n",
    "ax.legend()\n",
    "mse_fig"
   ]
  },
  {
   "cell_type": "markdown",
   "id": "9856b967",
   "metadata": {},
   "source": [
    "# Part II: Best Subset Selection "
   ]
  },
  {
   "cell_type": "code",
   "execution_count": 24,
   "id": "c0871038",
   "metadata": {},
   "outputs": [],
   "source": [
    "D = design.fit_transform(Hitters)\n",
    "D = D.drop('intercept', axis=1)\n",
    "X = np.asarray(D)"
   ]
  },
  {
   "cell_type": "code",
   "execution_count": 25,
   "id": "3f2fd9c2",
   "metadata": {},
   "outputs": [
    {
     "data": {
      "text/html": [
       "<div>\n",
       "<style scoped>\n",
       "    .dataframe tbody tr th:only-of-type {\n",
       "        vertical-align: middle;\n",
       "    }\n",
       "\n",
       "    .dataframe tbody tr th {\n",
       "        vertical-align: top;\n",
       "    }\n",
       "\n",
       "    .dataframe thead th {\n",
       "        text-align: right;\n",
       "    }\n",
       "</style>\n",
       "<table border=\"1\" class=\"dataframe\">\n",
       "  <thead>\n",
       "    <tr style=\"text-align: right;\">\n",
       "      <th></th>\n",
       "      <th>AtBat</th>\n",
       "      <th>Hits</th>\n",
       "      <th>HmRun</th>\n",
       "      <th>Runs</th>\n",
       "      <th>RBI</th>\n",
       "      <th>Walks</th>\n",
       "      <th>Years</th>\n",
       "      <th>CAtBat</th>\n",
       "      <th>CHits</th>\n",
       "      <th>CHmRun</th>\n",
       "      <th>CRuns</th>\n",
       "      <th>CRBI</th>\n",
       "      <th>CWalks</th>\n",
       "      <th>League[N]</th>\n",
       "      <th>Division[W]</th>\n",
       "      <th>PutOuts</th>\n",
       "      <th>Assists</th>\n",
       "      <th>Errors</th>\n",
       "      <th>NewLeague[N]</th>\n",
       "    </tr>\n",
       "  </thead>\n",
       "  <tbody>\n",
       "    <tr>\n",
       "      <th>1</th>\n",
       "      <td>315</td>\n",
       "      <td>81</td>\n",
       "      <td>7</td>\n",
       "      <td>24</td>\n",
       "      <td>38</td>\n",
       "      <td>39</td>\n",
       "      <td>14</td>\n",
       "      <td>3449</td>\n",
       "      <td>835</td>\n",
       "      <td>69</td>\n",
       "      <td>321</td>\n",
       "      <td>414</td>\n",
       "      <td>375</td>\n",
       "      <td>1.0</td>\n",
       "      <td>1.0</td>\n",
       "      <td>632</td>\n",
       "      <td>43</td>\n",
       "      <td>10</td>\n",
       "      <td>1.0</td>\n",
       "    </tr>\n",
       "    <tr>\n",
       "      <th>2</th>\n",
       "      <td>479</td>\n",
       "      <td>130</td>\n",
       "      <td>18</td>\n",
       "      <td>66</td>\n",
       "      <td>72</td>\n",
       "      <td>76</td>\n",
       "      <td>3</td>\n",
       "      <td>1624</td>\n",
       "      <td>457</td>\n",
       "      <td>63</td>\n",
       "      <td>224</td>\n",
       "      <td>266</td>\n",
       "      <td>263</td>\n",
       "      <td>0.0</td>\n",
       "      <td>1.0</td>\n",
       "      <td>880</td>\n",
       "      <td>82</td>\n",
       "      <td>14</td>\n",
       "      <td>0.0</td>\n",
       "    </tr>\n",
       "    <tr>\n",
       "      <th>3</th>\n",
       "      <td>496</td>\n",
       "      <td>141</td>\n",
       "      <td>20</td>\n",
       "      <td>65</td>\n",
       "      <td>78</td>\n",
       "      <td>37</td>\n",
       "      <td>11</td>\n",
       "      <td>5628</td>\n",
       "      <td>1575</td>\n",
       "      <td>225</td>\n",
       "      <td>828</td>\n",
       "      <td>838</td>\n",
       "      <td>354</td>\n",
       "      <td>1.0</td>\n",
       "      <td>0.0</td>\n",
       "      <td>200</td>\n",
       "      <td>11</td>\n",
       "      <td>3</td>\n",
       "      <td>1.0</td>\n",
       "    </tr>\n",
       "    <tr>\n",
       "      <th>4</th>\n",
       "      <td>321</td>\n",
       "      <td>87</td>\n",
       "      <td>10</td>\n",
       "      <td>39</td>\n",
       "      <td>42</td>\n",
       "      <td>30</td>\n",
       "      <td>2</td>\n",
       "      <td>396</td>\n",
       "      <td>101</td>\n",
       "      <td>12</td>\n",
       "      <td>48</td>\n",
       "      <td>46</td>\n",
       "      <td>33</td>\n",
       "      <td>1.0</td>\n",
       "      <td>0.0</td>\n",
       "      <td>805</td>\n",
       "      <td>40</td>\n",
       "      <td>4</td>\n",
       "      <td>1.0</td>\n",
       "    </tr>\n",
       "    <tr>\n",
       "      <th>5</th>\n",
       "      <td>594</td>\n",
       "      <td>169</td>\n",
       "      <td>4</td>\n",
       "      <td>74</td>\n",
       "      <td>51</td>\n",
       "      <td>35</td>\n",
       "      <td>11</td>\n",
       "      <td>4408</td>\n",
       "      <td>1133</td>\n",
       "      <td>19</td>\n",
       "      <td>501</td>\n",
       "      <td>336</td>\n",
       "      <td>194</td>\n",
       "      <td>0.0</td>\n",
       "      <td>1.0</td>\n",
       "      <td>282</td>\n",
       "      <td>421</td>\n",
       "      <td>25</td>\n",
       "      <td>0.0</td>\n",
       "    </tr>\n",
       "    <tr>\n",
       "      <th>...</th>\n",
       "      <td>...</td>\n",
       "      <td>...</td>\n",
       "      <td>...</td>\n",
       "      <td>...</td>\n",
       "      <td>...</td>\n",
       "      <td>...</td>\n",
       "      <td>...</td>\n",
       "      <td>...</td>\n",
       "      <td>...</td>\n",
       "      <td>...</td>\n",
       "      <td>...</td>\n",
       "      <td>...</td>\n",
       "      <td>...</td>\n",
       "      <td>...</td>\n",
       "      <td>...</td>\n",
       "      <td>...</td>\n",
       "      <td>...</td>\n",
       "      <td>...</td>\n",
       "      <td>...</td>\n",
       "    </tr>\n",
       "    <tr>\n",
       "      <th>317</th>\n",
       "      <td>497</td>\n",
       "      <td>127</td>\n",
       "      <td>7</td>\n",
       "      <td>65</td>\n",
       "      <td>48</td>\n",
       "      <td>37</td>\n",
       "      <td>5</td>\n",
       "      <td>2703</td>\n",
       "      <td>806</td>\n",
       "      <td>32</td>\n",
       "      <td>379</td>\n",
       "      <td>311</td>\n",
       "      <td>138</td>\n",
       "      <td>1.0</td>\n",
       "      <td>0.0</td>\n",
       "      <td>325</td>\n",
       "      <td>9</td>\n",
       "      <td>3</td>\n",
       "      <td>1.0</td>\n",
       "    </tr>\n",
       "    <tr>\n",
       "      <th>318</th>\n",
       "      <td>492</td>\n",
       "      <td>136</td>\n",
       "      <td>5</td>\n",
       "      <td>76</td>\n",
       "      <td>50</td>\n",
       "      <td>94</td>\n",
       "      <td>12</td>\n",
       "      <td>5511</td>\n",
       "      <td>1511</td>\n",
       "      <td>39</td>\n",
       "      <td>897</td>\n",
       "      <td>451</td>\n",
       "      <td>875</td>\n",
       "      <td>0.0</td>\n",
       "      <td>0.0</td>\n",
       "      <td>313</td>\n",
       "      <td>381</td>\n",
       "      <td>20</td>\n",
       "      <td>0.0</td>\n",
       "    </tr>\n",
       "    <tr>\n",
       "      <th>319</th>\n",
       "      <td>475</td>\n",
       "      <td>126</td>\n",
       "      <td>3</td>\n",
       "      <td>61</td>\n",
       "      <td>43</td>\n",
       "      <td>52</td>\n",
       "      <td>6</td>\n",
       "      <td>1700</td>\n",
       "      <td>433</td>\n",
       "      <td>7</td>\n",
       "      <td>217</td>\n",
       "      <td>93</td>\n",
       "      <td>146</td>\n",
       "      <td>0.0</td>\n",
       "      <td>1.0</td>\n",
       "      <td>37</td>\n",
       "      <td>113</td>\n",
       "      <td>7</td>\n",
       "      <td>0.0</td>\n",
       "    </tr>\n",
       "    <tr>\n",
       "      <th>320</th>\n",
       "      <td>573</td>\n",
       "      <td>144</td>\n",
       "      <td>9</td>\n",
       "      <td>85</td>\n",
       "      <td>60</td>\n",
       "      <td>78</td>\n",
       "      <td>8</td>\n",
       "      <td>3198</td>\n",
       "      <td>857</td>\n",
       "      <td>97</td>\n",
       "      <td>470</td>\n",
       "      <td>420</td>\n",
       "      <td>332</td>\n",
       "      <td>0.0</td>\n",
       "      <td>0.0</td>\n",
       "      <td>1314</td>\n",
       "      <td>131</td>\n",
       "      <td>12</td>\n",
       "      <td>0.0</td>\n",
       "    </tr>\n",
       "    <tr>\n",
       "      <th>321</th>\n",
       "      <td>631</td>\n",
       "      <td>170</td>\n",
       "      <td>9</td>\n",
       "      <td>77</td>\n",
       "      <td>44</td>\n",
       "      <td>31</td>\n",
       "      <td>11</td>\n",
       "      <td>4908</td>\n",
       "      <td>1457</td>\n",
       "      <td>30</td>\n",
       "      <td>775</td>\n",
       "      <td>357</td>\n",
       "      <td>249</td>\n",
       "      <td>0.0</td>\n",
       "      <td>1.0</td>\n",
       "      <td>408</td>\n",
       "      <td>4</td>\n",
       "      <td>3</td>\n",
       "      <td>0.0</td>\n",
       "    </tr>\n",
       "  </tbody>\n",
       "</table>\n",
       "<p>263 rows × 19 columns</p>\n",
       "</div>"
      ],
      "text/plain": [
       "     AtBat  Hits  HmRun  Runs  RBI  Walks  Years  CAtBat  CHits  CHmRun  \\\n",
       "1      315    81      7    24   38     39     14    3449    835      69   \n",
       "2      479   130     18    66   72     76      3    1624    457      63   \n",
       "3      496   141     20    65   78     37     11    5628   1575     225   \n",
       "4      321    87     10    39   42     30      2     396    101      12   \n",
       "5      594   169      4    74   51     35     11    4408   1133      19   \n",
       "..     ...   ...    ...   ...  ...    ...    ...     ...    ...     ...   \n",
       "317    497   127      7    65   48     37      5    2703    806      32   \n",
       "318    492   136      5    76   50     94     12    5511   1511      39   \n",
       "319    475   126      3    61   43     52      6    1700    433       7   \n",
       "320    573   144      9    85   60     78      8    3198    857      97   \n",
       "321    631   170      9    77   44     31     11    4908   1457      30   \n",
       "\n",
       "     CRuns  CRBI  CWalks  League[N]  Division[W]  PutOuts  Assists  Errors  \\\n",
       "1      321   414     375        1.0          1.0      632       43      10   \n",
       "2      224   266     263        0.0          1.0      880       82      14   \n",
       "3      828   838     354        1.0          0.0      200       11       3   \n",
       "4       48    46      33        1.0          0.0      805       40       4   \n",
       "5      501   336     194        0.0          1.0      282      421      25   \n",
       "..     ...   ...     ...        ...          ...      ...      ...     ...   \n",
       "317    379   311     138        1.0          0.0      325        9       3   \n",
       "318    897   451     875        0.0          0.0      313      381      20   \n",
       "319    217    93     146        0.0          1.0       37      113       7   \n",
       "320    470   420     332        0.0          0.0     1314      131      12   \n",
       "321    775   357     249        0.0          1.0      408        4       3   \n",
       "\n",
       "     NewLeague[N]  \n",
       "1             1.0  \n",
       "2             0.0  \n",
       "3             1.0  \n",
       "4             1.0  \n",
       "5             0.0  \n",
       "..            ...  \n",
       "317           1.0  \n",
       "318           0.0  \n",
       "319           0.0  \n",
       "320           0.0  \n",
       "321           0.0  \n",
       "\n",
       "[263 rows x 19 columns]"
      ]
     },
     "execution_count": 25,
     "metadata": {},
     "output_type": "execute_result"
    }
   ],
   "source": [
    "D"
   ]
  },
  {
   "cell_type": "code",
   "execution_count": null,
   "id": "551ff8a6",
   "metadata": {},
   "outputs": [
    {
     "name": "stdout",
     "output_type": "stream",
     "text": [
      "Preprocessing Data.\n",
      "BnB Started.\n",
      "Iteration: 1. Number of non-zeros:  1\n",
      "Iteration: 2. Number of non-zeros:  2\n",
      "Iteration: 3. Number of non-zeros:  2\n",
      "Iteration: 4. Number of non-zeros:  2\n",
      "Iteration: 5. Number of non-zeros:  3\n",
      "Iteration: 6. Number of non-zeros:  3\n",
      "Iteration: 7. Number of non-zeros:  4\n",
      "Iteration: 8. Number of non-zeros:  9\n",
      "Iteration: 9. Number of non-zeros:  9\n",
      "Iteration: 10. Number of non-zeros:  9\n",
      "Iteration: 11. Number of non-zeros:  9\n",
      "Iteration: 12. Number of non-zeros:  9\n",
      "Iteration: 13. Number of non-zeros:  9\n",
      "Iteration: 14. Number of non-zeros:  9\n",
      "Iteration: 15. Number of non-zeros:  9\n",
      "Iteration: 16. Number of non-zeros:  9\n",
      "Iteration: 17. Number of non-zeros:  9\n",
      "Iteration: 18. Number of non-zeros:  17\n",
      "Iteration: 19. Number of non-zeros:  19\n"
     ]
    }
   ],
   "source": [
    "\n",
    "path = fit_path(X,\n",
    "                Y,\n",
    "                max_nonzeros=X.shape[1])"
   ]
  },
  {
   "cell_type": "code",
   "execution_count": 27,
   "id": "7213ecff",
   "metadata": {},
   "outputs": [
    {
     "data": {
      "image/png": "[encoded data removed]",
      "text/plain": [
       "<Figure size 640x480 with 1 Axes>"
      ]
     },
     "metadata": {},
     "output_type": "display_data"
    }
   ],
   "source": [
    "import numpy as np\n",
    "\n",
    "nonzero_counts = [np.sum(result['B'] != 0) for result in path]\n",
    "\n",
    "import matplotlib.pyplot as plt\n",
    "\n",
    "plt.plot(range(1, len(nonzero_counts)+1), nonzero_counts, marker='o')\n",
    "plt.xlabel(\"Iteration\")\n",
    "plt.ylabel(\"Number of non-zero coefficients\")\n",
    "plt.title(\"Sparsity Path\")\n",
    "plt.grid(True)\n",
    "plt.show()\n"
   ]
  },
  {
   "cell_type": "code",
   "execution_count": 28,
   "id": "8de9bfe2",
   "metadata": {},
   "outputs": [
    {
     "data": {
      "image/png": "[encoded data removed]",
      "text/plain": [
       "<Figure size 640x480 with 1 Axes>"
      ]
     },
     "metadata": {},
     "output_type": "display_data"
    }
   ],
   "source": [
    "from sklearn.metrics import mean_squared_error\n",
    "\n",
    "errors = []\n",
    "for result in path:\n",
    "    y_pred = X @ result['B'] + result['B0']\n",
    "    mse = mean_squared_error(Y, y_pred)\n",
    "    errors.append(mse)\n",
    "\n",
    "plt.plot(range(len(errors)), errors, marker='x')\n",
    "plt.xlabel(\"Iteration\")\n",
    "plt.ylabel(\"MSE\")\n",
    "plt.title(\"Model Error vs Iteration\")\n",
    "plt.grid(True)\n",
    "plt.show()\n"
   ]
  },
  {
   "cell_type": "code",
   "execution_count": 34,
   "id": "57c12e21",
   "metadata": {},
   "outputs": [
    {
     "data": {
      "text/plain": [
       "{'B': array([-1.26502911e+00,  4.46363942e+00, -4.05516420e-01,  3.68642135e-01,\n",
       "         3.70769174e-01,  4.52419026e+00, -1.09492951e+01, -2.62273508e-02,\n",
       "         1.75010089e-01,  7.24620342e-01,  4.97558641e-01,  3.27023455e-01,\n",
       "        -4.83177545e-01,  5.94754193e+01, -1.24109864e+02,  2.75173624e-01,\n",
       "         2.44689154e-01, -3.85103383e+00, -2.60155377e+01]),\n",
       " 'B0': 127.13628221208302,\n",
       " 'lambda_0': 9.180211178141872e-06,\n",
       " 'M': 0.5447345814105986,\n",
       " 'Time_exceeded': False}"
      ]
     },
     "execution_count": 34,
     "metadata": {},
     "output_type": "execute_result"
    }
   ],
   "source": [
    "path[18]"
   ]
  },
  {
   "cell_type": "code",
   "execution_count": null,
   "id": "8639e8a2",
   "metadata": {},
   "outputs": [],
   "source": []
  }
 ],
 "metadata": {
  "kernelspec": {
   "display_name": "env",
   "language": "python",
   "name": "python3"
  },
  "language_info": {
   "codemirror_mode": {
    "name": "ipython",
    "version": 3
   },
   "file_extension": ".py",
   "mimetype": "text/x-python",
   "name": "python",
   "nbconvert_exporter": "python",
   "pygments_lexer": "ipython3",
   "version": "3.10.16"
  }
 },
 "nbformat": 4,
 "nbformat_minor": 5
}

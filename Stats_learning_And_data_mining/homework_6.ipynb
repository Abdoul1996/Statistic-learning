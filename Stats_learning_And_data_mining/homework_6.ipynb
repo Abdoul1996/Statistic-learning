{
 "cells": [
  {
   "cell_type": "markdown",
   "id": "5903db19",
   "metadata": {},
   "source": [
    "# Homework 6: 1, 2, 9 "
   ]
  },
  {
   "cell_type": "markdown",
   "id": "19669f24",
   "metadata": {},
   "source": []
  }
 ],
 "metadata": {
  "kernelspec": {
   "display_name": "env",
   "language": "python",
   "name": "python3"
  },
  "language_info": {
   "name": "python",
   "version": "3.10.16"
  }
 },
 "nbformat": 4,
 "nbformat_minor": 5
}

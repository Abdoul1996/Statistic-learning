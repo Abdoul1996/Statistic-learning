{
 "cells": [
  {
   "cell_type": "markdown",
   "id": "5903db19",
   "metadata": {},
   "source": [
    "# Homework 6: 1, 2, 9 "
   ]
  },
  {
   "cell_type": "markdown",
   "id": "ef8e225b",
   "metadata": {},
   "source": [
    "# 1."
   ]
  },
  {
   "cell_type": "markdown",
   "id": "406f05ae",
   "metadata": {},
   "source": [
    "The best subset selection method will have the smallest training RSS among the three methods for a given number of predictors \n",
    "𝑘\n",
    "k. This is because best subset selection evaluates all possible combinations of \n",
    "𝑘\n",
    "k predictors and chooses the one that minimizes the training error. In contrast, forward and backward stepwise selection only explore a limited subset of models, so they may not find the model with the absolute lowest training RSS."
   ]
  }
 ],
 "metadata": {
  "kernelspec": {
   "display_name": "env",
   "language": "python",
   "name": "python3"
  },
  "language_info": {
   "name": "python",
   "version": "3.10.16"
  }
 },
 "nbformat": 4,
 "nbformat_minor": 5
}

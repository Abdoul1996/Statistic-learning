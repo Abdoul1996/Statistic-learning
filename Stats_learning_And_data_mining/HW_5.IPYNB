{
 "cells": [
  {
   "cell_type": "markdown",
   "id": "b9802f70",
   "metadata": {},
   "source": [
    "## Homework 6: "
   ]
  },
  {
   "cell_type": "code",
   "execution_count": null,
   "id": "a49daaa9",
   "metadata": {},
   "outputs": [],
   "source": []
  }
 ],
 "metadata": {
  "language_info": {
   "name": "python"
  }
 },
 "nbformat": 4,
 "nbformat_minor": 5
}

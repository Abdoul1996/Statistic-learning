{
  "cells": [
    {
      "cell_type": "markdown",
      "metadata": {
        "id": "zbrckQcVBY0R"
      },
      "source": [
        "#1. Create a function $f(x)$ calculating $-x^2+2*x$"
      ]
    },
    {
      "cell_type": "code",
      "execution_count": 1,
      "metadata": {
        "id": "f8scCN9PBl3V"
      },
      "outputs": [],
      "source": [
        "def my_fun(x):\n",
        "    return -x**2 + 2*x"
      ]
    },
    {
      "cell_type": "code",
      "execution_count": 2,
      "metadata": {
        "colab": {
          "base_uri": "https://localhost:8080/"
        },
        "id": "xxWPcB8XB5ma",
        "outputId": "8b1068c1-c7c8-4d9f-ccb6-e1dbe52095aa"
      },
      "outputs": [
        {
          "name": "stdout",
          "output_type": "stream",
          "text": [
            "-3\n"
          ]
        }
      ],
      "source": [
        "result=my_fun(3)\n",
        "print(result)"
      ]
    },
    {
      "cell_type": "markdown",
      "metadata": {
        "id": "OkAPQkUXCc0z"
      },
      "source": [
        "#2. Generate a sequence 0,0.1,0.2,….,1.5 and name it as $x$. Count the length and name it as $n$"
      ]
    },
    {
      "cell_type": "code",
      "execution_count": 3,
      "metadata": {
        "colab": {
          "base_uri": "https://localhost:8080/"
        },
        "id": "attYlTaICmww",
        "outputId": "7b33dbac-f433-42f1-e69b-b57f0d07d6ac"
      },
      "outputs": [
        {
          "name": "stdout",
          "output_type": "stream",
          "text": [
            "Sequence x: [0.  0.1 0.2 0.3 0.4 0.5 0.6 0.7 0.8 0.9 1.  1.1 1.2 1.3 1.4 1.5]\n",
            "Length of x (n): 16\n"
          ]
        }
      ],
      "source": [
        "import numpy as np\n",
        "\n",
        "# Generate the sequence\n",
        "x = np.arange(0, 1.6, 0.1)\n",
        "\n",
        "# Count the length\n",
        "n = len(x)\n",
        "\n",
        "# Print the sequence and its length\n",
        "print(\"Sequence x:\", x)\n",
        "print(\"Length of x (n):\", n)"
      ]
    },
    {
      "cell_type": "markdown",
      "metadata": {
        "id": "Krfg9n0AC3CL"
      },
      "source": [
        "#3. Set seed as “448”."
      ]
    },
    {
      "cell_type": "code",
      "execution_count": 4,
      "metadata": {
        "id": "_2R-OI0KCXe_"
      },
      "outputs": [],
      "source": [
        "import numpy as np\n",
        "np.random.seed(448)\n"
      ]
    },
    {
      "cell_type": "markdown",
      "metadata": {
        "id": "pDdKPJkvD5go"
      },
      "source": [
        "#4. Generate $n$ random numbers from normal distribution with mean 0 and standard deviation 0.1 and save it as error."
      ]
    },
    {
      "cell_type": "code",
      "execution_count": 6,
      "metadata": {
        "colab": {
          "base_uri": "https://localhost:8080/"
        },
        "id": "35ZAH01XDOX_",
        "outputId": "5a95bb3e-142a-411f-e64d-65abbe1b7def"
      },
      "outputs": [
        {
          "name": "stdout",
          "output_type": "stream",
          "text": [
            "[ 0.03583922 -0.06989026 -0.11163877 -0.12896458  0.01889975  0.02160839\n",
            "  0.05457903 -0.04039985  0.08815635  0.10772317  0.19943883  0.0455044\n",
            "  0.00237226  0.08094114 -0.00949126  0.07568827]\n"
          ]
        }
      ],
      "source": [
        "# Generate random numbers from normal distribution with mean 0 and std dev 0.1\n",
        "error = np.random.normal(loc=0, scale=0.1, size=n)\n",
        "print(error)"
      ]
    },
    {
      "cell_type": "markdown",
      "metadata": {
        "id": "Idnx_PvAESDW"
      },
      "source": [
        "#5.Generate a n by 1 vector y using relation y=f(x)+error."
      ]
    },
    {
      "cell_type": "code",
      "execution_count": 7,
      "metadata": {
        "colab": {
          "base_uri": "https://localhost:8080/"
        },
        "id": "x7byxImsEUpA",
        "outputId": "78d84061-881c-4ec7-baef-34ef057dee89"
      },
      "outputs": [
        {
          "name": "stdout",
          "output_type": "stream",
          "text": [
            "Generated x: [0.  0.1 0.2 0.3 0.4 0.5 0.6 0.7 0.8 0.9 1.  1.1 1.2 1.3 1.4 1.5]\n",
            "Generated error: [ 0.03583922 -0.06989026 -0.11163877 -0.12896458  0.01889975  0.02160839\n",
            "  0.05457903 -0.04039985  0.08815635  0.10772317  0.19943883  0.0455044\n",
            "  0.00237226  0.08094114 -0.00949126  0.07568827]\n",
            "Generated y: [0.03583922 0.12010974 0.24836123 0.38103542 0.65889975 0.77160839\n",
            " 0.89457903 0.86960015 1.04815635 1.09772317 1.19943883 1.0355044\n",
            " 0.96237226 0.99094114 0.83050874 0.82568827]\n"
          ]
        }
      ],
      "source": [
        "y=my_fun(x)+error\n",
        "# Print the generated x, error, and y vectors\n",
        "print(\"Generated x:\", x)\n",
        "print(\"Generated error:\", error)\n",
        "print(\"Generated y:\", y)"
      ]
    },
    {
      "cell_type": "markdown",
      "metadata": {
        "id": "CngVEoUsrdBx"
      },
      "source": [
        "#6. Create a function knn.pred with two augments: K and an observation x0. This function will fit a KNN regression with parameter K based on (x,y) and predict response for the observation x0. Test your function using K=5 and x0=1"
      ]
    },
    {
      "cell_type": "code",
      "execution_count": null,
      "metadata": {},
      "outputs": [],
      "source": []
    },
    {
      "cell_type": "code",
      "execution_count": 9,
      "metadata": {
        "colab": {
          "base_uri": "https://localhost:8080/"
        },
        "id": "qmmVEoa5GxWN",
        "outputId": "5efc6e69-99af-439f-928c-a092f1ee7b9b"
      },
      "outputs": [
        {
          "name": "stdout",
          "output_type": "stream",
          "text": [
            "Prediction for x0=1 with K=5: 1.0686390038661142\n"
          ]
        }
      ],
      "source": [
        "def knn_pred(x, y, K, x0):\n",
        "    # Calculate Euclidean distances between x and x0\n",
        "    distances = np.abs(x - x0)\n",
        "\n",
        "    # Find indices of K-nearest neighbors\n",
        "    k_nearest_indices = np.argsort(distances)[:K]\n",
        "\n",
        "    # Use the mean of the corresponding y values as the predicted value\n",
        "    predicted_value = np.mean(y[k_nearest_indices])\n",
        "\n",
        "    return predicted_value\n",
        "\n",
        "# Example usage\n",
        "# Assuming you have x, y, and the function f(x) + error from the previous examples\n",
        "# Test the function with K=5 and x0=1\n",
        "K = 5\n",
        "x0 = 1\n",
        "prediction = knn_pred(x, y, K, x0)\n",
        "\n",
        "print(f\"Prediction for x0={x0} with K={K}: {prediction}\")"
      ]
    },
    {
      "cell_type": "code",
      "execution_count": 12,
      "metadata": {},
      "outputs": [
        {
          "data": {
            "image/png": "[encoded data removed]",
            "text/plain": [
              "<Figure size 640x480 with 1 Axes>"
            ]
          },
          "metadata": {},
          "output_type": "display_data"
        }
      ],
      "source": [
        "import matplotlib.pyplot as plt\n",
        "\n",
        "# Plot data\n",
        "plt.scatter(x, y, label='Data')\n",
        "plt.axvline(x0, color='gray', linestyle='--', label='x0')\n",
        "plt.axhline(prediction, color='red', linestyle='--', label=f'Prediction (K={K})')\n",
        "# Highlight neighbors\n",
        "distances = np.abs(x - x0)\n",
        "k_nearest_indices = np.argsort(distances)[:K]\n",
        "plt.scatter(x[k_nearest_indices], y[k_nearest_indices], color='orange', label='k Nearest')\n",
        "\n",
        "plt.legend()\n",
        "plt.xlabel('x')\n",
        "plt.ylabel('y')\n",
        "plt.title('k-NN Regression')\n",
        "plt.show()"
      ]
    },
    {
      "cell_type": "markdown",
      "metadata": {
        "id": "8R_tZ0-_H24G"
      },
      "source": [
        "#7. Use the function you created in 6) to calculate the training MSE for the data (x,y) we have. (Set K=5)"
      ]
    },
    {
      "cell_type": "code",
      "execution_count": 13,
      "metadata": {
        "colab": {
          "base_uri": "https://localhost:8080/"
        },
        "id": "v2fbEezTH7Q0",
        "outputId": "485225df-fa01-4a5b-89ca-cb70e734ccc8"
      },
      "outputs": [
        {
          "name": "stdout",
          "output_type": "stream",
          "text": [
            "Training MSE for K=5: 0.009874513058305025\n"
          ]
        }
      ],
      "source": [
        "# Set K for kNN\n",
        "K = 5\n",
        "\n",
        "# Calculate predictions for each observation in the training set\n",
        "y_pred = np.array([knn_pred(x, y, K, xi) for xi in x])\n",
        "\n",
        "# Calculate Mean Squared Error (MSE)\n",
        "mse = np.mean((y - y_pred)**2)\n",
        "\n",
        "print(f\"Training MSE for K={K}: {mse}\")"
      ]
    },
    {
      "cell_type": "markdown",
      "metadata": {
        "id": "yW0-3y9wr3Db"
      },
      "source": [
        "#8.  Use your code in 7) to create a function with one argument K. The output is the training MSE of data."
      ]
    },
    {
      "cell_type": "code",
      "execution_count": 14,
      "metadata": {
        "id": "DLeFbJSaIhqJ"
      },
      "outputs": [],
      "source": [
        "def knn_training_mse(K, x, y):\n",
        "    # Function to calculate prediction using kNN\n",
        "    def knn_pred(x0):\n",
        "        distances = np.abs(x - x0)\n",
        "        k_nearest_indices = np.argsort(distances)[:K]\n",
        "        return np.mean(y[k_nearest_indices])\n",
        "\n",
        "    # Calculate predictions for each observation in the training set\n",
        "    y_pred = np.array([knn_pred(xi) for xi in x])\n",
        "\n",
        "    # Calculate Mean Squared Error (MSE)\n",
        "    mse = np.mean((y - y_pred)**2)\n",
        "\n",
        "    return mse"
      ]
    },
    {
      "cell_type": "code",
      "execution_count": 15,
      "metadata": {
        "colab": {
          "base_uri": "https://localhost:8080/"
        },
        "id": "F5B8PwMpIpc2",
        "outputId": "6a4efda9-4778-4736-d72d-803f4b83bc78"
      },
      "outputs": [
        {
          "name": "stdout",
          "output_type": "stream",
          "text": [
            "Training MSE for K=1: 0.0\n"
          ]
        }
      ],
      "source": [
        "K = 1\n",
        "mse = knn_training_mse(K, x, y)\n",
        "\n",
        "print(f\"Training MSE for K={K}: {mse}\")"
      ]
    },
    {
      "cell_type": "markdown",
      "metadata": {
        "id": "9KhuL1l0J6W7"
      },
      "source": [
        "#9. Make a plot to see the relation between 1/K and the training MSE."
      ]
    },
    {
      "cell_type": "code",
      "execution_count": null,
      "metadata": {
        "id": "thxE1uO6Kq2K"
      },
      "outputs": [],
      "source": []
    },
    {
      "cell_type": "code",
      "execution_count": 16,
      "metadata": {
        "colab": {
          "base_uri": "https://localhost:8080/",
          "height": 564
        },
        "id": "JnxMQph6JqXF",
        "outputId": "39d0e041-fe8a-4bda-9be0-9cf29396b189"
      },
      "outputs": [
        {
          "data": {
            "image/png": "[encoded data removed]",
            "text/plain": [
              "<Figure size 1000x600 with 1 Axes>"
            ]
          },
          "metadata": {},
          "output_type": "display_data"
        }
      ],
      "source": [
        "import matplotlib.pyplot as plt\n",
        "# Range of K values\n",
        "K_values = np.arange(1, 15)\n",
        "inverse_K_values = 1 / K_values\n",
        "\n",
        "# Calculate training MSE for each K\n",
        "mse_values = [knn_training_mse(K, x, y) for K in K_values]\n",
        "\n",
        "# Plotting\n",
        "plt.figure(figsize=(10, 6))\n",
        "plt.plot(inverse_K_values, mse_values, marker='o', linestyle='-', color='b')\n",
        "plt.title('1/K vs Training MSE')\n",
        "plt.xlabel('1/K')\n",
        "plt.ylabel('Training MSE')\n",
        "plt.grid(True)\n",
        "plt.show()"
      ]
    },
    {
      "cell_type": "markdown",
      "metadata": {
        "id": "MnOOFLVVKAfh"
      },
      "source": [
        "#10."
      ]
    },
    {
      "cell_type": "code",
      "execution_count": 17,
      "metadata": {
        "id": "TW9xZKaGKs5Y"
      },
      "outputs": [],
      "source": [
        "def knn_test_mse(K, x_train, y_train, x_test, y_true_test):\n",
        "    def knn_pred(x0):\n",
        "        distances = np.abs(x_train - x0)\n",
        "        k_nearest_indices = np.argsort(distances)[:K]\n",
        "        return np.mean(y_train[k_nearest_indices])\n",
        "\n",
        "    y_pred_test = np.array([knn_pred(xi) for xi in x_test])\n",
        "    mse_test = np.mean((y_true_test - y_pred_test)**2)\n",
        "\n",
        "    return mse_test"
      ]
    },
    {
      "cell_type": "code",
      "execution_count": 18,
      "metadata": {
        "colab": {
          "base_uri": "https://localhost:8080/",
          "height": 564
        },
        "id": "nXLjZ_MFKVlg",
        "outputId": "55707855-6dc8-49bf-9807-f11cb4ea7226"
      },
      "outputs": [
        {
          "data": {
            "image/png": "[encoded data removed]",
            "text/plain": [
              "<Figure size 1000x600 with 1 Axes>"
            ]
          },
          "metadata": {},
          "output_type": "display_data"
        }
      ],
      "source": [
        "# Generate test data\n",
        "x_test = np.arange(0.05, 1.5, 0.1)\n",
        "y_true_test = my_fun(x_test) + np.random.normal(loc=0, scale=0.1, size=len(x_test))\n",
        "\n",
        "# Range of K values\n",
        "K_values = np.arange(1, 15)\n",
        "inverse_K_values = 1 / K_values\n",
        "\n",
        "# Calculate test MSE for each K\n",
        "mse_test_values = [knn_test_mse(K, x, y, x_test, y_true_test) for K in K_values]\n",
        "\n",
        "# Plotting\n",
        "plt.figure(figsize=(10, 6))\n",
        "plt.plot(inverse_K_values, mse_values, marker='o', linestyle='-', color='b', label='Training MSE')\n",
        "plt.plot(inverse_K_values, mse_test_values, marker='o', linestyle='-', color='r', label='Test MSE')\n",
        "plt.title('1/K vs MSE')\n",
        "plt.xlabel('1/K')\n",
        "plt.ylabel('MSE')\n",
        "plt.legend()\n",
        "plt.grid(True)\n",
        "plt.show()"
      ]
    },
    {
      "cell_type": "code",
      "execution_count": null,
      "metadata": {},
      "outputs": [],
      "source": []
    }
  ],
  "metadata": {
    "colab": {
      "provenance": []
    },
    "kernelspec": {
      "display_name": "env-statistic",
      "language": "python",
      "name": "python3"
    },
    "language_info": {
      "codemirror_mode": {
        "name": "ipython",
        "version": 3
      },
      "file_extension": ".py",
      "mimetype": "text/x-python",
      "name": "python",
      "nbconvert_exporter": "python",
      "pygments_lexer": "ipython3",
      "version": "3.9.21"
    }
  },
  "nbformat": 4,
  "nbformat_minor": 0
}
